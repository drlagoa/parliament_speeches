{
 "cells": [
  {
   "cell_type": "code",
   "execution_count": 1,
   "id": "6bb3d3e6",
   "metadata": {},
   "outputs": [
    {
     "data": {
      "text/plain": [
       "'\\nThis module conducts LDA on lists of words.\\n'"
      ]
     },
     "execution_count": 1,
     "metadata": {},
     "output_type": "execute_result"
    }
   ],
   "source": [
    "'''\n",
    "This module conducts LDA on lists of words.\n",
    "'''"
   ]
  },
  {
   "cell_type": "code",
   "execution_count": 3,
   "id": "567415a2",
   "metadata": {},
   "outputs": [],
   "source": [
    "from collections import defaultdict\n",
    "import os\n",
    "import pandas as pd\n",
    "\n",
    "import json\n",
    "\n",
    "# Regular Expression library\n",
    "import re\n",
    "\n",
    "from wordcloud import WordCloud\n",
    "\n",
    "import matplotlib.pyplot as mplt"
   ]
  },
  {
   "cell_type": "code",
   "execution_count": 53,
   "id": "f4680d50",
   "metadata": {},
   "outputs": [],
   "source": [
    "# Importing important packages\n",
    "\n",
    "import gensim\n",
    "from gensim.utils import simple_preprocess\n",
    "import nltk\n",
    "from nltk.corpus import stopwords\n",
    "\n",
    "\n",
    "import gensim.corpora as corpora\n",
    "\n",
    "from pprint import pprint\n",
    "\n",
    "\n",
    "import pickle \n",
    "import pyLDAvis\n",
    "import pyLDAvis.gensim_models\n",
    "\n",
    "import time\n",
    "\n",
    "import seaborn as sns\n",
    "import numpy as np"
   ]
  },
  {
   "cell_type": "code",
   "execution_count": null,
   "id": "25628b7f",
   "metadata": {},
   "outputs": [],
   "source": []
  },
  {
   "cell_type": "code",
   "execution_count": 67,
   "id": "823d544e",
   "metadata": {},
   "outputs": [],
   "source": [
    "clean_parties = ['BE', 'PSD+CDS-PP', 'Os Verdes', 'PCP', 'PS']"
   ]
  },
  {
   "cell_type": "code",
   "execution_count": null,
   "id": "d955501a",
   "metadata": {},
   "outputs": [],
   "source": []
  },
  {
   "cell_type": "code",
   "execution_count": 5,
   "id": "2b5c610b",
   "metadata": {},
   "outputs": [],
   "source": [
    "# Functions"
   ]
  },
  {
   "cell_type": "code",
   "execution_count": 2,
   "id": "64f748c4",
   "metadata": {},
   "outputs": [],
   "source": [
    "def load(party=None, year=None, session=None):\n",
    "    '''Loads the relevant data_words file.'''\n",
    "    \n",
    "    directory_save_panda = os.path.join('D:', 'tese_data', 'save', 'panda')\n",
    "    \n",
    "    if party is None:\n",
    "        party = \"all\"\n",
    "\n",
    "    if party == \"all\":\n",
    "        if year is not None:\n",
    "            if session is not None:\n",
    "                st = f'data_words_{year}_{session}.json'\n",
    "            else:\n",
    "                st = f'data_words_{year}.json'\n",
    "        elif session is not None:\n",
    "            st = f'data_words_{session}.json'\n",
    "        else:\n",
    "            st = 'data_words.json'\n",
    "    elif party in clean_parties:\n",
    "        if year is not None:\n",
    "            if session is not None:\n",
    "                st = f'data_words_{party}_{year}_{session}.json'\n",
    "            else:\n",
    "                st = f'data_words_{party}_{year}.json'\n",
    "        elif session is not None:\n",
    "            st = f'data_words_{party}_{session}.json'\n",
    "        else:\n",
    "            st = f'data_words_{party}.json'\n",
    "    else:\n",
    "        raise ValueError(\"Invalid party specified\")\n",
    "    \n",
    "    file_path = os.path.join(directory_save_panda, st)\n",
    "\n",
    "    lst_words = []\n",
    "\n",
    "    with open(file_path, 'r') as infile:\n",
    "        lst_words = json.load(infile)\n",
    "        \n",
    "    return lst_words\n"
   ]
  },
  {
   "cell_type": "code",
   "execution_count": 6,
   "id": "224af670",
   "metadata": {},
   "outputs": [],
   "source": [
    "def create_dict(lst):\n",
    "    ''' Takes list and creates dictionary of corpus for input into LDA.    \n",
    "    '''\n",
    "\n",
    "    # Create Dictionary\n",
    "    id2word = corpora.Dictionary(lst)\n",
    "\n",
    "    # Create Corpus\n",
    "    texts = lst\n",
    "\n",
    "    # Term Document Frequency\n",
    "    corpus = [id2word.doc2bow(text) for text in texts]\n",
    "\n",
    "    return id2word, corpus"
   ]
  },
  {
   "cell_type": "code",
   "execution_count": 7,
   "id": "c4694f41",
   "metadata": {},
   "outputs": [],
   "source": [
    "def LDA(id2word, corpus, num_topics = 10):\n",
    "\n",
    "    # Build LDA model\n",
    "    lda_model = gensim.models.LdaMulticore(corpus=corpus,\n",
    "                                       id2word=id2word,\n",
    "                                       num_topics=num_topics)\n",
    "    \n",
    "    # Print the Keyword in the 10 topics\n",
    "    pprint(lda_model.print_topics())\n",
    "    doc_lda = lda_model[corpus]\n",
    "    \n",
    "    return lda_model"
   ]
  },
  {
   "cell_type": "code",
   "execution_count": 8,
   "id": "444034b7",
   "metadata": {},
   "outputs": [],
   "source": [
    "def run_visualizaton(lda_model, corpus, id2word):\n",
    "    '''Creates the appropriate visualization for LDA model'''\n",
    "\n",
    "    # Visualize the topics\n",
    "    pyLDAvis.enable_notebook()\n",
    "\n",
    "    # this is a bit time consuming - make the if statement True\n",
    "    # if you want to execute visualization prep yourself\n",
    "    if 1 == 1:\n",
    "        LDAvis_prepared = pyLDAvis.gensim_models.prepare(lda_model, corpus, id2word)\n",
    "    \n",
    "    return(LDAvis_prepared)"
   ]
  },
  {
   "cell_type": "code",
   "execution_count": 9,
   "id": "682bac95",
   "metadata": {},
   "outputs": [],
   "source": [
    "def save_visualizaton(vis, party = \"all\"):\n",
    "    '''Saves the visualization of the LDA model'''\n",
    "    \n",
    "    title = 'ldavis_prepared_' + party + '_' + str(num_topics) + '.html'\n",
    "    \n",
    "    # Visualize the topics\n",
    "    pyLDAvis.enable_notebook()\n",
    "\n",
    "    directory_save_panda = os.path.join('D:', 'tese_data', 'save', 'panda')\n",
    "    LDAvis_data_filepath = os.path.join(directory_save_panda, 'results', 'ldavis_prepared_' + str(num_topics))\n",
    "    \n",
    "    LDAvis_data_filename = os.path.join(LDAvis_data_filepath, title)\n",
    "\n",
    "    \n",
    "    with open(LDAvis_data_filename, 'wb') as f:\n",
    "        pickle.dump(vis, f)\n",
    "\n",
    "    # load the pre-prepared pyLDAvis data from disk\n",
    "    with open(LDAvis_data_filename, 'rb') as f:\n",
    "        LDAvis_prepared = pickle.load(f)\n",
    "\n",
    "    pyLDAvis.save_html(LDAvis_prepared, LDAvis_data_filename)\n",
    "    LDAvis_prepared"
   ]
  },
  {
   "cell_type": "code",
   "execution_count": null,
   "id": "81009f36",
   "metadata": {},
   "outputs": [],
   "source": []
  },
  {
   "cell_type": "code",
   "execution_count": null,
   "id": "72c527ab",
   "metadata": {},
   "outputs": [],
   "source": []
  },
  {
   "cell_type": "code",
   "execution_count": null,
   "id": "29ffaf58",
   "metadata": {},
   "outputs": [],
   "source": []
  },
  {
   "cell_type": "code",
   "execution_count": 10,
   "id": "a97b30a6",
   "metadata": {},
   "outputs": [],
   "source": [
    "# Additional useful function yielding the most common words.\n",
    "\n",
    "def most_common_words(words_list, size_of_list):\n",
    "    \"\"\"\n",
    "    Returns a list of the most commonly used words in a list of tokens.\n",
    "    \"\"\"\n",
    "    flat_list = [item for sublist in words_list for item in sublist]\n",
    "    fd = nltk.FreqDist(flat_list)\n",
    "    for word in fd.most_common(size_of_list):\n",
    "        print(word[0], word[1])"
   ]
  },
  {
   "cell_type": "code",
   "execution_count": null,
   "id": "4d33e1ad",
   "metadata": {},
   "outputs": [],
   "source": []
  },
  {
   "cell_type": "code",
   "execution_count": null,
   "id": "4ed4187a",
   "metadata": {},
   "outputs": [],
   "source": []
  },
  {
   "cell_type": "code",
   "execution_count": 12,
   "id": "9c00a044",
   "metadata": {},
   "outputs": [],
   "source": [
    "# Prepare data for LDA Analysis (from https://towardsdatascience.com/end-to-end-topic-modeling-in-python-latent-dirichlet-allocation-lda-35ce4ed6b3e0)"
   ]
  },
  {
   "cell_type": "code",
   "execution_count": 13,
   "id": "3d747694",
   "metadata": {},
   "outputs": [],
   "source": [
    "# This is LDA on all words."
   ]
  },
  {
   "cell_type": "code",
   "execution_count": 74,
   "id": "f6977a6d",
   "metadata": {},
   "outputs": [],
   "source": [
    "# Load the list of words\n",
    "\n",
    "data_words = load()"
   ]
  },
  {
   "cell_type": "code",
   "execution_count": 109,
   "id": "b1ce2a92",
   "metadata": {},
   "outputs": [
    {
     "name": "stdout",
     "output_type": "stream",
     "text": [
      "[(0,\n",
      "  '0.006*\"europa\" + 0.005*\"política\" + 0.005*\"português\" + 0.005*\"povo\" + '\n",
      "  '0.004*\"caminho\" + 0.004*\"vida\" + 0.004*\"interesse\" + 0.003*\"interesses\" + '\n",
      "  '0.003*\"história\" + 0.003*\"mundo\"'),\n",
      " (1,\n",
      "  '0.009*\"segurança\" + 0.009*\"social\" + 0.007*\"direitos\" + 0.007*\"justiça\" + '\n",
      "  '0.006*\"proteção\" + 0.006*\"direito\" + 0.006*\"pessoas\" + 0.005*\"combate\" + '\n",
      "  '0.004*\"trabalho\" + 0.003*\"vida\"'),\n",
      " (2,\n",
      "  '0.015*\"europeia\" + 0.012*\"união\" + 0.008*\"agricultura\" + 0.006*\"europeu\" + '\n",
      "  '0.006*\"comissão\" + 0.004*\"água\" + 0.004*\"europa\" + 0.004*\"paulo\" + '\n",
      "  '0.004*\"agricultores\" + 0.003*\"silva\"'),\n",
      " (3,\n",
      "  '0.016*\"trabalhadores\" + 0.015*\"trabalho\" + 0.013*\"empresas\" + '\n",
      "  '0.009*\"social\" + 0.008*\"emprego\" + 0.007*\"desemprego\" + 0.006*\"aumento\" + '\n",
      "  '0.005*\"pessoas\" + 0.004*\"precariedade\" + 0.004*\"mercado\"'),\n",
      " (4,\n",
      "  '0.008*\"administração\" + 0.008*\"serviço\" + 0.008*\"pública\" + '\n",
      "  '0.007*\"profissionais\" + 0.007*\"público\" + 0.006*\"serviços\" + '\n",
      "  '0.006*\"sistema\" + 0.005*\"nacional\" + 0.004*\"superior\" + 0.004*\"avaliação\"'),\n",
      " (5,\n",
      "  '0.008*\"saúde\" + 0.007*\"petição\" + 0.005*\"animais\" + 0.005*\"processo\" + '\n",
      "  '0.005*\"hospital\" + 0.005*\"decisão\" + 0.004*\"peticionários\" + '\n",
      "  '0.004*\"solução\" + 0.003*\"projetos\" + 0.003*\"república\"'),\n",
      " (6,\n",
      "  '0.018*\"educação\" + 0.016*\"escolas\" + 0.016*\"ensino\" + 0.016*\"escola\" + '\n",
      "  '0.014*\"professores\" + 0.011*\"alunos\" + 0.007*\"escolar\" + 0.007*\"pública\" + '\n",
      "  '0.006*\"jovens\" + 0.005*\"crianças\"'),\n",
      " (7,\n",
      "  '0.008*\"república\" + 0.006*\"maioria\" + 0.006*\"política\" + 0.004*\"comissão\" + '\n",
      "  '0.003*\"vamos\" + 0.003*\"eleições\" + 0.003*\"problema\" + 0.003*\"democracia\" + '\n",
      "  '0.003*\"constitucional\" + 0.003*\"posição\"'),\n",
      " (8,\n",
      "  '0.008*\"nacional\" + 0.006*\"desenvolvimento\" + 0.005*\"política\" + '\n",
      "  '0.004*\"populações\" + 0.004*\"investimento\" + 0.004*\"setor\" + '\n",
      "  '0.003*\"políticas\" + 0.003*\"interior\" + 0.003*\"programa\" + '\n",
      "  '0.003*\"território\"'),\n",
      " (9,\n",
      "  '0.014*\"saúde\" + 0.011*\"milhões\" + 0.010*\"orçamento\" + 0.009*\"euros\" + '\n",
      "  '0.006*\"investimento\" + 0.006*\"social\" + 0.005*\"nacional\" + 0.005*\"dívida\" + '\n",
      "  '0.005*\"crescimento\" + 0.005*\"economia\"')]\n"
     ]
    }
   ],
   "source": [
    "num_topics = 10\n",
    "\n",
    "id2word, corpus = create_dict(data_words)\n",
    "lda_model = LDA(id2word, corpus, num_topics)"
   ]
  },
  {
   "cell_type": "code",
   "execution_count": 73,
   "id": "1ec19ce4",
   "metadata": {},
   "outputs": [],
   "source": [
    "# Visualize the topics\n",
    "\n",
    "vis = run_visualizaton(lda_model, corpus, id2word)\n",
    "save_visualizaton(vis)"
   ]
  },
  {
   "cell_type": "code",
   "execution_count": null,
   "id": "a265284e",
   "metadata": {},
   "outputs": [],
   "source": []
  },
  {
   "cell_type": "code",
   "execution_count": null,
   "id": "a63a9897",
   "metadata": {},
   "outputs": [],
   "source": []
  },
  {
   "cell_type": "code",
   "execution_count": 17,
   "id": "290dd146",
   "metadata": {},
   "outputs": [],
   "source": [
    "# LDA per party"
   ]
  },
  {
   "cell_type": "code",
   "execution_count": 18,
   "id": "27aedef4",
   "metadata": {},
   "outputs": [
    {
     "name": "stdout",
     "output_type": "stream",
     "text": [
      "//////////////////////////////////////////////////////////////////////////////////////////\n",
      "This is for party:  BE\n",
      "//////////////////////////////////////////////////////////////////////////////////////////\n",
      "\n",
      "\n",
      "[(0,\n",
      "  '0.004*\"política\" + 0.003*\"trabalho\" + 0.003*\"público\" + '\n",
      "  '0.003*\"trabalhadores\" + 0.003*\"direitos\" + 0.003*\"pessoas\" + 0.003*\"escola\" '\n",
      "  '+ 0.003*\"professores\" + 0.003*\"pública\" + 0.003*\"saúde\"'),\n",
      " (1,\n",
      "  '0.004*\"trabalho\" + 0.003*\"política\" + 0.003*\"processo\" + 0.003*\"educação\" + '\n",
      "  '0.003*\"professores\" + 0.003*\"nacional\" + 0.002*\"escola\" + 0.002*\"economia\" '\n",
      "  '+ 0.002*\"sistema\" + 0.002*\"maior\"'),\n",
      " (2,\n",
      "  '0.004*\"política\" + 0.004*\"pessoas\" + 0.003*\"trabalhadores\" + '\n",
      "  '0.003*\"desemprego\" + 0.003*\"trabalho\" + 0.003*\"comissão\" + 0.003*\"direitos\" '\n",
      "  '+ 0.003*\"menos\" + 0.003*\"pública\" + 0.003*\"república\"'),\n",
      " (3,\n",
      "  '0.005*\"social\" + 0.004*\"problema\" + 0.004*\"orçamento\" + 0.003*\"pública\" + '\n",
      "  '0.003*\"república\" + 0.003*\"política\" + 0.003*\"pessoas\" + 0.003*\"menos\" + '\n",
      "  '0.003*\"trabalho\" + 0.003*\"trabalhadores\"'),\n",
      " (4,\n",
      "  '0.008*\"saúde\" + 0.006*\"trabalho\" + 0.006*\"pessoas\" + 0.005*\"nacional\" + '\n",
      "  '0.005*\"política\" + 0.005*\"milhões\" + 0.005*\"serviço\" + 0.003*\"social\" + '\n",
      "  '0.003*\"público\" + 0.003*\"trabalhadores\"'),\n",
      " (5,\n",
      "  '0.008*\"social\" + 0.004*\"política\" + 0.004*\"trabalho\" + 0.003*\"pessoas\" + '\n",
      "  '0.003*\"orçamento\" + 0.003*\"segurança\" + 0.003*\"nacional\" + 0.003*\"milhões\" '\n",
      "  '+ 0.002*\"pensões\" + 0.002*\"república\"')]\n",
      "////////////////////////////////////// END /////////////////////////////////////////////////\n",
      "\n",
      "//////////////////////////////////////////////////////////////////////////////////////////\n",
      "This is for party:  PSD+CDS-PP\n",
      "//////////////////////////////////////////////////////////////////////////////////////////\n",
      "\n",
      "\n",
      "[(0,\n",
      "  '0.013*\"saúde\" + 0.005*\"serviço\" + 0.005*\"nacional\" + 0.004*\"serviços\" + '\n",
      "  '0.003*\"social\" + 0.003*\"pessoas\" + 0.003*\"educação\" + 0.003*\"sistema\" + '\n",
      "  '0.003*\"escolas\" + 0.003*\"ensino\"'),\n",
      " (1,\n",
      "  '0.005*\"europeia\" + 0.004*\"fiscal\" + 0.004*\"união\" + 0.004*\"orçamento\" + '\n",
      "  '0.004*\"social\" + 0.003*\"acordo\" + 0.003*\"europeu\" + 0.003*\"comissão\" + '\n",
      "  '0.003*\"reforma\" + 0.003*\"austeridade\"'),\n",
      " (2,\n",
      "  '0.006*\"comissão\" + 0.004*\"maioria\" + 0.004*\"política\" + 0.003*\"república\" + '\n",
      "  '0.003*\"apresentar\" + 0.003*\"processo\" + 0.003*\"discutir\" + 0.002*\"social\" + '\n",
      "  '0.002*\"anunciar\" + 0.002*\"lado\"'),\n",
      " (3,\n",
      "  '0.008*\"milhões\" + 0.006*\"euros\" + 0.006*\"investimento\" + 0.005*\"empresas\" + '\n",
      "  '0.005*\"economia\" + 0.005*\"orçamento\" + 0.004*\"dívida\" + 0.004*\"crescimento\" '\n",
      "  '+ 0.004*\"programa\" + 0.004*\"social\"'),\n",
      " (4,\n",
      "  '0.008*\"social\" + 0.006*\"trabalho\" + 0.004*\"empresas\" + 0.003*\"desemprego\" + '\n",
      "  '0.003*\"pessoas\" + 0.003*\"problema\" + 0.003*\"acordo\" + 0.003*\"política\" + '\n",
      "  '0.003*\"queremos\" + 0.003*\"futuro\"'),\n",
      " (5,\n",
      "  '0.004*\"nacional\" + 0.004*\"pessoas\" + 0.003*\"defesa\" + 0.003*\"proteção\" + '\n",
      "  '0.003*\"segurança\" + 0.003*\"direitos\" + 0.003*\"república\" + 0.003*\"direito\" '\n",
      "  '+ 0.003*\"justiça\" + 0.002*\"forças\"')]\n",
      "////////////////////////////////////// END /////////////////////////////////////////////////\n",
      "\n",
      "//////////////////////////////////////////////////////////////////////////////////////////\n",
      "This is for party:  N insc.\n",
      "//////////////////////////////////////////////////////////////////////////////////////////\n",
      "\n",
      "\n",
      "[(0,\n",
      "  '0.003*\"ensino\" + 0.003*\"escolas\" + 0.003*\"conta\" + 0.003*\"orçamental\" + '\n",
      "  '0.003*\"educação\" + 0.003*\"problema\" + 0.003*\"processo\" + 0.002*\"formação\" + '\n",
      "  '0.002*\"situação\" + 0.002*\"solução\"'),\n",
      " (1,\n",
      "  '0.004*\"educação\" + 0.004*\"avaliação\" + 0.003*\"três\" + 0.003*\"república\" + '\n",
      "  '0.003*\"docentes\" + 0.003*\"escola\" + 0.003*\"dois\" + 0.002*\"professores\" + '\n",
      "  '0.002*\"sistema\" + 0.002*\"ensino\"'),\n",
      " (2,\n",
      "  '0.006*\"avaliação\" + 0.004*\"educação\" + 0.004*\"ensino\" + 0.004*\"processo\" + '\n",
      "  '0.004*\"docentes\" + 0.004*\"sistema\" + 0.003*\"nacional\" + 0.003*\"escolas\" + '\n",
      "  '0.003*\"escola\" + 0.003*\"superior\"'),\n",
      " (3,\n",
      "  '0.005*\"ensino\" + 0.004*\"nacional\" + 0.003*\"educação\" + 0.003*\"escolas\" + '\n",
      "  '0.003*\"acordo\" + 0.003*\"sistema\" + 0.003*\"votar\" + 0.003*\"orçamental\" + '\n",
      "  '0.002*\"superior\" + 0.002*\"pública\"'),\n",
      " (4,\n",
      "  '0.009*\"ensino\" + 0.006*\"superior\" + 0.004*\"educação\" + 0.004*\"professores\" '\n",
      "  '+ 0.003*\"instituições\" + 0.003*\"mal\" + 0.003*\"orçamento\" + '\n",
      "  '0.003*\"avaliação\" + 0.002*\"pública\" + 0.002*\"sistema\"'),\n",
      " (5,\n",
      "  '0.005*\"ensino\" + 0.004*\"superior\" + 0.003*\"pública\" + 0.003*\"instituições\" '\n",
      "  '+ 0.003*\"processo\" + 0.003*\"acordo\" + 0.003*\"educação\" + 0.003*\"sistema\" + '\n",
      "  '0.002*\"recursos\" + 0.002*\"qualidade\"')]\n",
      "////////////////////////////////////// END /////////////////////////////////////////////////\n",
      "\n",
      "//////////////////////////////////////////////////////////////////////////////////////////\n",
      "This is for party:  Os Verdes\n",
      "//////////////////////////////////////////////////////////////////////////////////////////\n",
      "\n",
      "\n",
      "[(0,\n",
      "  '0.004*\"nacional\" + 0.004*\"saúde\" + 0.003*\"pessoas\" + 0.003*\"pública\" + '\n",
      "  '0.003*\"república\" + 0.003*\"nível\" + 0.002*\"trabalho\" + 0.002*\"fundamental\" '\n",
      "  '+ 0.002*\"designadamente\" + 0.002*\"europeia\"'),\n",
      " (1,\n",
      "  '0.005*\"república\" + 0.004*\"trabalho\" + 0.004*\"pessoas\" + 0.003*\"empresas\" + '\n",
      "  '0.003*\"saúde\" + 0.003*\"orçamento\" + 0.002*\"designadamente\" + '\n",
      "  '0.002*\"problema\" + 0.002*\"direito\" + 0.002*\"vida\"'),\n",
      " (2,\n",
      "  '0.007*\"saúde\" + 0.005*\"pessoas\" + 0.003*\"social\" + 0.003*\"trabalho\" + '\n",
      "  '0.003*\"serviços\" + 0.003*\"orçamento\" + 0.003*\"nível\" + 0.002*\"políticas\" + '\n",
      "  '0.002*\"república\" + 0.002*\"nacional\"'),\n",
      " (3,\n",
      "  '0.003*\"saúde\" + 0.003*\"trabalhadores\" + 0.003*\"trabalho\" + '\n",
      "  '0.003*\"república\" + 0.003*\"nacional\" + 0.003*\"orçamento\" + 0.002*\"público\" '\n",
      "  '+ 0.002*\"pessoas\" + 0.002*\"política\" + 0.002*\"nível\"'),\n",
      " (4,\n",
      "  '0.005*\"república\" + 0.004*\"pessoas\" + 0.004*\"trabalhadores\" + '\n",
      "  '0.003*\"nacional\" + 0.003*\"orçamento\" + 0.003*\"trabalho\" + 0.003*\"social\" + '\n",
      "  '0.003*\"nível\" + 0.003*\"saúde\" + 0.003*\"designadamente\"'),\n",
      " (5,\n",
      "  '0.006*\"saúde\" + 0.003*\"república\" + 0.003*\"pessoas\" + 0.003*\"público\" + '\n",
      "  '0.003*\"nível\" + 0.002*\"populações\" + 0.002*\"designadamente\" + '\n",
      "  '0.002*\"milhões\" + 0.002*\"lado\" + 0.002*\"serviços\"')]\n",
      "////////////////////////////////////// END /////////////////////////////////////////////////\n",
      "\n",
      "//////////////////////////////////////////////////////////////////////////////////////////\n",
      "This is for party:  PAN\n",
      "//////////////////////////////////////////////////////////////////////////////////////////\n",
      "\n",
      "\n",
      "[(0,\n",
      "  '0.007*\"animais\" + 0.004*\"saúde\" + 0.004*\"pessoas\" + 0.004*\"nacional\" + '\n",
      "  '0.003*\"proteção\" + 0.003*\"vida\" + 0.002*\"maior\" + 0.002*\"produção\" + '\n",
      "  '0.002*\"cidadãos\" + 0.002*\"ambiente\"'),\n",
      " (1,\n",
      "  '0.006*\"saúde\" + 0.006*\"animais\" + 0.003*\"pessoas\" + 0.003*\"trabalho\" + '\n",
      "  '0.003*\"nacional\" + 0.003*\"cidadãos\" + 0.002*\"serviço\" + 0.002*\"sociedade\" + '\n",
      "  '0.002*\"orçamento\" + 0.002*\"além\"'),\n",
      " (2,\n",
      "  '0.004*\"social\" + 0.004*\"animais\" + 0.004*\"saúde\" + 0.003*\"nacional\" + '\n",
      "  '0.003*\"pessoas\" + 0.002*\"vida\" + 0.002*\"sociedade\" + 0.002*\"direitos\" + '\n",
      "  '0.002*\"trabalho\" + 0.002*\"profissionais\"'),\n",
      " (3,\n",
      "  '0.006*\"saúde\" + 0.005*\"animais\" + 0.004*\"cidadãos\" + 0.003*\"pessoas\" + '\n",
      "  '0.003*\"nacional\" + 0.003*\"direito\" + 0.003*\"vida\" + 0.002*\"produção\" + '\n",
      "  '0.002*\"consumo\" + 0.002*\"informação\"'),\n",
      " (4,\n",
      "  '0.006*\"animais\" + 0.005*\"pessoas\" + 0.005*\"saúde\" + 0.004*\"nacional\" + '\n",
      "  '0.003*\"violência\" + 0.003*\"crianças\" + 0.003*\"trabalho\" + 0.003*\"direitos\" '\n",
      "  '+ 0.003*\"sociedade\" + 0.002*\"proteção\"'),\n",
      " (5,\n",
      "  '0.005*\"saúde\" + 0.004*\"pessoas\" + 0.004*\"crianças\" + 0.003*\"ambiente\" + '\n",
      "  '0.003*\"cidadãos\" + 0.002*\"consumo\" + 0.002*\"ambiental\" + 0.002*\"nacional\" + '\n",
      "  '0.002*\"maior\" + 0.002*\"política\"')]\n",
      "////////////////////////////////////// END /////////////////////////////////////////////////\n",
      "\n",
      "//////////////////////////////////////////////////////////////////////////////////////////\n",
      "This is for party:  PCP\n",
      "//////////////////////////////////////////////////////////////////////////////////////////\n",
      "\n",
      "\n",
      "[(0,\n",
      "  '0.013*\"trabalhadores\" + 0.006*\"política\" + 0.006*\"trabalho\" + '\n",
      "  '0.006*\"direitos\" + 0.005*\"pública\" + 0.004*\"saúde\" + 0.004*\"vida\" + '\n",
      "  '0.004*\"desemprego\" + 0.004*\"serviços\" + 0.004*\"pessoas\"'),\n",
      " (1,\n",
      "  '0.010*\"política\" + 0.007*\"trabalhadores\" + 0.006*\"empresas\" + '\n",
      "  '0.004*\"direitos\" + 0.004*\"trabalho\" + 0.004*\"fiscal\" + 0.004*\"pública\" + '\n",
      "  '0.004*\"salários\" + 0.004*\"nacional\" + 0.003*\"grupos\"'),\n",
      " (2,\n",
      "  '0.004*\"problema\" + 0.003*\"nacional\" + 0.003*\"saúde\" + 0.003*\"serviço\" + '\n",
      "  '0.003*\"república\" + 0.003*\"trabalhadores\" + 0.002*\"trabalho\" + '\n",
      "  '0.002*\"público\" + 0.002*\"sido\" + 0.002*\"segurança\"'),\n",
      " (3,\n",
      "  '0.011*\"saúde\" + 0.009*\"trabalhadores\" + 0.007*\"trabalho\" + 0.007*\"social\" + '\n",
      "  '0.005*\"direitos\" + 0.005*\"situação\" + 0.005*\"profissionais\" + '\n",
      "  '0.005*\"nacional\" + 0.004*\"direito\" + 0.004*\"público\"'),\n",
      " (4,\n",
      "  '0.006*\"nacional\" + 0.005*\"política\" + 0.004*\"europeia\" + 0.004*\"social\" + '\n",
      "  '0.004*\"união\" + 0.003*\"direito\" + 0.003*\"ensino\" + 0.003*\"condições\" + '\n",
      "  '0.003*\"serviço\" + 0.003*\"república\"'),\n",
      " (5,\n",
      "  '0.007*\"nacional\" + 0.006*\"milhões\" + 0.005*\"trabalhadores\" + '\n",
      "  '0.005*\"política\" + 0.005*\"euros\" + 0.004*\"público\" + 0.004*\"problemas\" + '\n",
      "  '0.004*\"social\" + 0.004*\"república\" + 0.004*\"desenvolvimento\"')]\n"
     ]
    },
    {
     "name": "stdout",
     "output_type": "stream",
     "text": [
      "////////////////////////////////////// END /////////////////////////////////////////////////\n",
      "\n",
      "//////////////////////////////////////////////////////////////////////////////////////////\n",
      "This is for party:  PS\n",
      "//////////////////////////////////////////////////////////////////////////////////////////\n",
      "\n",
      "\n",
      "[(0,\n",
      "  '0.015*\"saúde\" + 0.007*\"serviço\" + 0.006*\"nacional\" + 0.004*\"social\" + '\n",
      "  '0.004*\"pessoas\" + 0.004*\"cuidados\" + 0.004*\"público\" + 0.003*\"direito\" + '\n",
      "  '0.003*\"acesso\" + 0.003*\"segurança\"'),\n",
      " (1,\n",
      "  '0.006*\"república\" + 0.004*\"anunciar\" + 0.004*\"europa\" + 0.004*\"comissão\" + '\n",
      "  '0.003*\"maioria\" + 0.003*\"menos\" + 0.003*\"política\" + 0.003*\"europeu\" + '\n",
      "  '0.002*\"câmara\" + 0.002*\"portuguesa\"'),\n",
      " (2,\n",
      "  '0.006*\"europeia\" + 0.005*\"nacional\" + 0.004*\"comissão\" + 0.004*\"união\" + '\n",
      "  '0.003*\"política\" + 0.003*\"trabalho\" + 0.003*\"república\" + 0.002*\"europeu\" + '\n",
      "  '0.002*\"lugar\" + 0.002*\"sistema\"'),\n",
      " (3,\n",
      "  '0.009*\"milhões\" + 0.007*\"empresas\" + 0.007*\"euros\" + 0.006*\"investimento\" + '\n",
      "  '0.006*\"orçamento\" + 0.005*\"economia\" + 0.004*\"política\" + 0.004*\"aumento\" + '\n",
      "  '0.003*\"programa\" + 0.003*\"fiscal\"'),\n",
      " (4,\n",
      "  '0.006*\"trabalho\" + 0.003*\"programa\" + 0.003*\"social\" + 0.003*\"processo\" + '\n",
      "  '0.003*\"nacional\" + 0.002*\"direito\" + 0.002*\"república\" + 0.002*\"problemas\" '\n",
      "  '+ 0.002*\"política\" + 0.002*\"mercado\"'),\n",
      " (5,\n",
      "  '0.011*\"social\" + 0.007*\"segurança\" + 0.006*\"emprego\" + '\n",
      "  '0.005*\"trabalhadores\" + 0.005*\"crescimento\" + 0.005*\"trabalho\" + '\n",
      "  '0.005*\"pública\" + 0.004*\"política\" + 0.004*\"sistema\" + 0.004*\"políticas\"')]\n",
      "////////////////////////////////////// END /////////////////////////////////////////////////\n",
      "\n",
      "//////////////////////////////////////////////////////////////////////////////////////////\n",
      "This is for party:  PSD\n",
      "//////////////////////////////////////////////////////////////////////////////////////////\n",
      "\n",
      "\n"
     ]
    },
    {
     "ename": "FileNotFoundError",
     "evalue": "[Errno 2] No such file or directory: 'D:tese_data\\\\save\\\\panda\\\\data_words - PSD.json'",
     "output_type": "error",
     "traceback": [
      "\u001b[1;31m---------------------------------------------------------------------------\u001b[0m",
      "\u001b[1;31mFileNotFoundError\u001b[0m                         Traceback (most recent call last)",
      "Input \u001b[1;32mIn [18]\u001b[0m, in \u001b[0;36m<cell line: 1>\u001b[1;34m()\u001b[0m\n\u001b[0;32m      7\u001b[0m \u001b[38;5;28mprint\u001b[39m()\n\u001b[0;32m      9\u001b[0m \u001b[38;5;66;03m# Load the appropriate document.\u001b[39;00m\n\u001b[1;32m---> 10\u001b[0m local_words \u001b[38;5;241m=\u001b[39m \u001b[43mload\u001b[49m\u001b[43m(\u001b[49m\u001b[43mparty\u001b[49m\u001b[43m)\u001b[49m\n\u001b[0;32m     13\u001b[0m \u001b[38;5;66;03m# Define number of topics for LDA.\u001b[39;00m\n\u001b[0;32m     14\u001b[0m num_topics \u001b[38;5;241m=\u001b[39m \u001b[38;5;241m6\u001b[39m\n",
      "Input \u001b[1;32mIn [6]\u001b[0m, in \u001b[0;36mload\u001b[1;34m(party)\u001b[0m\n\u001b[0;32m     12\u001b[0m file_path \u001b[38;5;241m=\u001b[39m os\u001b[38;5;241m.\u001b[39mpath\u001b[38;5;241m.\u001b[39mjoin(directory_save_panda, st)\n\u001b[0;32m     14\u001b[0m lst_words \u001b[38;5;241m=\u001b[39m []\n\u001b[1;32m---> 16\u001b[0m \u001b[38;5;28;01mwith\u001b[39;00m \u001b[38;5;28;43mopen\u001b[39;49m\u001b[43m(\u001b[49m\u001b[43mfile_path\u001b[49m\u001b[43m,\u001b[49m\u001b[43m \u001b[49m\u001b[38;5;124;43m'\u001b[39;49m\u001b[38;5;124;43mr\u001b[39;49m\u001b[38;5;124;43m'\u001b[39;49m\u001b[43m)\u001b[49m \u001b[38;5;28;01mas\u001b[39;00m infile:\n\u001b[0;32m     17\u001b[0m     lst_words \u001b[38;5;241m=\u001b[39m json\u001b[38;5;241m.\u001b[39mload(infile)\n\u001b[0;32m     19\u001b[0m \u001b[38;5;28;01mreturn\u001b[39;00m lst_words\n",
      "\u001b[1;31mFileNotFoundError\u001b[0m: [Errno 2] No such file or directory: 'D:tese_data\\\\save\\\\panda\\\\data_words - PSD.json'"
     ]
    }
   ],
   "source": [
    "for party in clean_parties:\n",
    "    \n",
    "    print(\"//////////////////////////////////////////////////////////////////////////////////////////\")\n",
    "    print(\"This is for party: \", party)\n",
    "    print(\"//////////////////////////////////////////////////////////////////////////////////////////\")\n",
    "    print()\n",
    "    print()\n",
    "    \n",
    "    # Load the appropriate document.\n",
    "    local_words = load(party)\n",
    "\n",
    "    \n",
    "    # Define number of topics for LDA.\n",
    "    num_topics = 6\n",
    "\n",
    "    # Actually run model.\n",
    "    id2word, corpus = create_dict(local_words)\n",
    "    lda_model = LDA(id2word, corpus, num_topics)\n",
    "\n",
    "    # Obtain and save visualization\n",
    "    vis = run_visualizaton(lda_model, corpus, id2word)\n",
    "    save_visualizaton(vis, party)\n",
    "    \n",
    "    print(\"////////////////////////////////////// END /////////////////////////////////////////////////\")\n",
    "    print()"
   ]
  },
  {
   "cell_type": "code",
   "execution_count": null,
   "id": "d1adf1be",
   "metadata": {},
   "outputs": [],
   "source": []
  },
  {
   "cell_type": "code",
   "execution_count": null,
   "id": "ec786ae5",
   "metadata": {},
   "outputs": [],
   "source": []
  },
  {
   "cell_type": "code",
   "execution_count": null,
   "id": "bf9b0aed",
   "metadata": {},
   "outputs": [],
   "source": []
  },
  {
   "cell_type": "code",
   "execution_count": 103,
   "id": "f64a2681",
   "metadata": {},
   "outputs": [
    {
     "name": "stdout",
     "output_type": "stream",
     "text": [
      "[(0,\n",
      "  '0.014*\"social\" + 0.013*\"trabalho\" + 0.013*\"trabalhadores\" + 0.006*\"pessoas\" '\n",
      "  '+ 0.006*\"segurança\" + 0.005*\"direitos\" + 0.005*\"desemprego\" + '\n",
      "  '0.005*\"emprego\" + 0.004*\"sociais\" + 0.004*\"famílias\"'),\n",
      " (1,\n",
      "  '0.006*\"república\" + 0.005*\"comissão\" + 0.005*\"processo\" + 0.003*\"justiça\" + '\n",
      "  '0.003*\"direito\" + 0.003*\"trabalho\" + 0.002*\"direitos\" + 0.002*\"lugar\" + '\n",
      "  '0.002*\"tribunal\" + 0.002*\"maioria\"'),\n",
      " (2,\n",
      "  '0.006*\"nacional\" + 0.004*\"setor\" + 0.004*\"desenvolvimento\" + '\n",
      "  '0.004*\"investimento\" + 0.003*\"público\" + 0.003*\"gestão\" + '\n",
      "  '0.003*\"território\" + 0.003*\"agricultura\" + 0.003*\"milhões\" + '\n",
      "  '0.002*\"economia\"'),\n",
      " (3,\n",
      "  '0.027*\"saúde\" + 0.012*\"serviço\" + 0.011*\"nacional\" + 0.007*\"milhões\" + '\n",
      "  '0.006*\"euros\" + 0.005*\"cuidados\" + 0.005*\"orçamento\" + 0.005*\"serviços\" + '\n",
      "  '0.004*\"sns\" + 0.004*\"público\"'),\n",
      " (4,\n",
      "  '0.007*\"política\" + 0.006*\"educação\" + 0.006*\"escola\" + 0.005*\"professores\" '\n",
      "  '+ 0.005*\"escolas\" + 0.005*\"pessoas\" + 0.005*\"pública\" + 0.004*\"problema\" + '\n",
      "  '0.004*\"problemas\" + 0.004*\"alunos\"'),\n",
      " (5,\n",
      "  '0.008*\"empresas\" + 0.008*\"europeia\" + 0.007*\"economia\" + 0.006*\"união\" + '\n",
      "  '0.006*\"orçamento\" + 0.006*\"crescimento\" + 0.005*\"investimento\" + '\n",
      "  '0.005*\"fiscal\" + 0.005*\"dívida\" + 0.004*\"programa\"')]\n"
     ]
    }
   ],
   "source": [
    "num_topics = 6\n",
    "\n",
    "id2word2, corpus2 = create_dict(data_words)\n",
    "lda_model2 = LDA(id2word2, corpus2, num_topics)"
   ]
  },
  {
   "cell_type": "code",
   "execution_count": 104,
   "id": "091d9adc",
   "metadata": {},
   "outputs": [],
   "source": [
    "vis = run_visualizaton(lda_model2, corpus, id2word2)\n",
    "save_visualizaton(vis)"
   ]
  },
  {
   "cell_type": "code",
   "execution_count": 105,
   "id": "9bf6bb72",
   "metadata": {},
   "outputs": [],
   "source": [
    "id2word, corpus = id2word2, corpus2\n",
    "lda_model = lda_model2"
   ]
  },
  {
   "cell_type": "code",
   "execution_count": 107,
   "id": "303016a4",
   "metadata": {},
   "outputs": [
    {
     "name": "stdout",
     "output_type": "stream",
     "text": [
      "Social and Labor: 0.014*\"social\" + 0.013*\"trabalho\" + 0.013*\"trabalhadores\" + 0.006*\"pessoas\" + 0.006*\"segurança\"\n",
      "Legal and Judicial: 0.006*\"república\" + 0.005*\"comissão\" + 0.005*\"processo\" + 0.003*\"justiça\" + 0.003*\"direito\"\n",
      "Development and Investment: 0.006*\"nacional\" + 0.004*\"setor\" + 0.004*\"desenvolvimento\" + 0.004*\"investimento\" + 0.003*\"público\"\n",
      "Healthcare: 0.027*\"saúde\" + 0.012*\"serviço\" + 0.011*\"nacional\" + 0.007*\"milhões\" + 0.006*\"euros\"\n",
      "Education: 0.007*\"política\" + 0.006*\"educação\" + 0.006*\"escola\" + 0.005*\"professores\" + 0.005*\"escolas\"\n",
      "Economy and European: 0.008*\"empresas\" + 0.008*\"europeia\" + 0.007*\"economia\" + 0.006*\"união\" + 0.006*\"orçamento\"\n"
     ]
    },
    {
     "data": {
      "image/png": "[encoded data removed]",
      "text/plain": [
       "<Figure size 720x432 with 2 Axes>"
      ]
     },
     "metadata": {
      "needs_background": "light"
     },
     "output_type": "display_data"
    }
   ],
   "source": [
    "# Step 2: Aggregate Party-Level Contributions\n",
    "party_topic_contributions = {party: np.zeros(lda_model.num_topics) for party in clean_parties}\n",
    "\n",
    "for party in clean_parties:\n",
    "    party_docs = load(party=party)  # Load the party-specific document data\n",
    "    for doc in party_docs:\n",
    "        doc_bow = id2word.doc2bow(doc)\n",
    "        doc_topic = lda_model[doc_bow]\n",
    "        for topic_id, weight in doc_topic:\n",
    "            party_topic_contributions[party][topic_id] += weight\n",
    "\n",
    "# Normalize contributions\n",
    "for party in clean_parties:\n",
    "    party_topic_contributions[party] /= sum(party_topic_contributions[party])\n",
    "\n",
    "# Print top words for each topic\n",
    "top_words_per_topic = lda_model.print_topics(num_words=5)  # Change the number of words as needed\n",
    "\n",
    "# Define the relevant topic names\n",
    "topic_names = {\n",
    "    0: \"Social and Labor\",\n",
    "    1: \"Legal and Judicial\",\n",
    "    2: \"Development and Investment\",\n",
    "    3: \"Healthcare\",\n",
    "    4: \"Education\",\n",
    "    5: \"Economy and European\"\n",
    "}\n",
    "\n",
    "# Print top words for each topic with topic names\n",
    "for topic_id, top_words in top_words_per_topic:\n",
    "    print(f\"{topic_names[topic_id]}: {top_words}\")\n",
    "\n",
    "# Step 3: Visualize\n",
    "party_topic_df = pd.DataFrame.from_dict(party_topic_contributions, orient='index')\n",
    "party_topic_df.columns = [topic_names[i] for i in range(lda_model.num_topics)]\n",
    "\n",
    "# Plot a heatmap\n",
    "mplt.figure(figsize=(10, 6))\n",
    "mplt.title(\"Party Topic Contributions\")\n",
    "sns.heatmap(party_topic_df, cmap=\"YlGnBu\", annot=True, fmt=\".2f\")\n",
    "\n",
    "# Save the heatmap as an image\n",
    "save_path = os.path.join('D:', 'tese_data', 'save', 'panda', 'hm')\n",
    "image_path = os.path.join(save_path, 'party_topic_heatmap.png')\n",
    "mplt.savefig(image_path)\n",
    "\n",
    "mplt.show()\n"
   ]
  },
  {
   "cell_type": "code",
   "execution_count": 52,
   "id": "6f5264bb",
   "metadata": {},
   "outputs": [
    {
     "name": "stdout",
     "output_type": "stream",
     "text": [
      "221784\n"
     ]
    }
   ],
   "source": [
    "# Normalize contributions\n",
    "for party in clean_parties:\n",
    "    party_topic_contributions[party] /= party_topic_contributions[party].sum()\n"
   ]
  },
  {
   "cell_type": "code",
   "execution_count": 108,
   "id": "f16e23a7",
   "metadata": {},
   "outputs": [
    {
     "name": "stdout",
     "output_type": "stream",
     "text": [
      "Session:  10\n",
      "Social and Labor: 0.014*\"social\" + 0.013*\"trabalho\" + 0.013*\"trabalhadores\" + 0.006*\"pessoas\" + 0.006*\"segurança\"\n",
      "Legal and Judicial: 0.006*\"república\" + 0.005*\"comissão\" + 0.005*\"processo\" + 0.003*\"justiça\" + 0.003*\"direito\"\n",
      "Development and Investment: 0.006*\"nacional\" + 0.004*\"setor\" + 0.004*\"desenvolvimento\" + 0.004*\"investimento\" + 0.003*\"público\"\n",
      "Healthcare: 0.027*\"saúde\" + 0.012*\"serviço\" + 0.011*\"nacional\" + 0.007*\"milhões\" + 0.006*\"euros\"\n",
      "Education: 0.007*\"política\" + 0.006*\"educação\" + 0.006*\"escola\" + 0.005*\"professores\" + 0.005*\"escolas\"\n",
      "Economy and European: 0.008*\"empresas\" + 0.008*\"europeia\" + 0.007*\"economia\" + 0.006*\"união\" + 0.006*\"orçamento\"\n"
     ]
    },
    {
     "data": {
      "image/png": "[encoded data removed]",
      "text/plain": [
       "<Figure size 720x432 with 2 Axes>"
      ]
     },
     "metadata": {
      "needs_background": "light"
     },
     "output_type": "display_data"
    },
    {
     "name": "stdout",
     "output_type": "stream",
     "text": [
      "\n",
      "Session:  11\n",
      "Social and Labor: 0.014*\"social\" + 0.013*\"trabalho\" + 0.013*\"trabalhadores\" + 0.006*\"pessoas\" + 0.006*\"segurança\"\n",
      "Legal and Judicial: 0.006*\"república\" + 0.005*\"comissão\" + 0.005*\"processo\" + 0.003*\"justiça\" + 0.003*\"direito\"\n",
      "Development and Investment: 0.006*\"nacional\" + 0.004*\"setor\" + 0.004*\"desenvolvimento\" + 0.004*\"investimento\" + 0.003*\"público\"\n",
      "Healthcare: 0.027*\"saúde\" + 0.012*\"serviço\" + 0.011*\"nacional\" + 0.007*\"milhões\" + 0.006*\"euros\"\n",
      "Education: 0.007*\"política\" + 0.006*\"educação\" + 0.006*\"escola\" + 0.005*\"professores\" + 0.005*\"escolas\"\n",
      "Economy and European: 0.008*\"empresas\" + 0.008*\"europeia\" + 0.007*\"economia\" + 0.006*\"união\" + 0.006*\"orçamento\"\n"
     ]
    },
    {
     "data": {
      "image/png": "[encoded data removed]",
      "text/plain": [
       "<Figure size 720x432 with 2 Axes>"
      ]
     },
     "metadata": {
      "needs_background": "light"
     },
     "output_type": "display_data"
    },
    {
     "name": "stdout",
     "output_type": "stream",
     "text": [
      "\n",
      "Session:  12\n",
      "Social and Labor: 0.014*\"social\" + 0.013*\"trabalho\" + 0.013*\"trabalhadores\" + 0.006*\"pessoas\" + 0.006*\"segurança\"\n",
      "Legal and Judicial: 0.006*\"república\" + 0.005*\"comissão\" + 0.005*\"processo\" + 0.003*\"justiça\" + 0.003*\"direito\"\n",
      "Development and Investment: 0.006*\"nacional\" + 0.004*\"setor\" + 0.004*\"desenvolvimento\" + 0.004*\"investimento\" + 0.003*\"público\"\n",
      "Healthcare: 0.027*\"saúde\" + 0.012*\"serviço\" + 0.011*\"nacional\" + 0.007*\"milhões\" + 0.006*\"euros\"\n",
      "Education: 0.007*\"política\" + 0.006*\"educação\" + 0.006*\"escola\" + 0.005*\"professores\" + 0.005*\"escolas\"\n",
      "Economy and European: 0.008*\"empresas\" + 0.008*\"europeia\" + 0.007*\"economia\" + 0.006*\"união\" + 0.006*\"orçamento\"\n"
     ]
    },
    {
     "data": {
      "image/png": "[encoded data removed]",
      "text/plain": [
       "<Figure size 720x432 with 2 Axes>"
      ]
     },
     "metadata": {
      "needs_background": "light"
     },
     "output_type": "display_data"
    },
    {
     "name": "stdout",
     "output_type": "stream",
     "text": [
      "\n",
      "Session:  13\n",
      "Social and Labor: 0.014*\"social\" + 0.013*\"trabalho\" + 0.013*\"trabalhadores\" + 0.006*\"pessoas\" + 0.006*\"segurança\"\n",
      "Legal and Judicial: 0.006*\"república\" + 0.005*\"comissão\" + 0.005*\"processo\" + 0.003*\"justiça\" + 0.003*\"direito\"\n",
      "Development and Investment: 0.006*\"nacional\" + 0.004*\"setor\" + 0.004*\"desenvolvimento\" + 0.004*\"investimento\" + 0.003*\"público\"\n",
      "Healthcare: 0.027*\"saúde\" + 0.012*\"serviço\" + 0.011*\"nacional\" + 0.007*\"milhões\" + 0.006*\"euros\"\n",
      "Education: 0.007*\"política\" + 0.006*\"educação\" + 0.006*\"escola\" + 0.005*\"professores\" + 0.005*\"escolas\"\n",
      "Economy and European: 0.008*\"empresas\" + 0.008*\"europeia\" + 0.007*\"economia\" + 0.006*\"união\" + 0.006*\"orçamento\"\n"
     ]
    },
    {
     "data": {
      "image/png": "[encoded data removed]",
      "text/plain": [
       "<Figure size 720x432 with 2 Axes>"
      ]
     },
     "metadata": {
      "needs_background": "light"
     },
     "output_type": "display_data"
    },
    {
     "name": "stdout",
     "output_type": "stream",
     "text": [
      "\n"
     ]
    }
   ],
   "source": [
    "# Create a directory to save the heatmaps\n",
    "heatmap_dir = os.path.join('D:', 'tese_data', 'save', 'panda', 'hm')\n",
    "if not os.path.exists(heatmap_dir):\n",
    "    os.makedirs(heatmap_directory)\n",
    "\n",
    "# Iterate over legislative sessions\n",
    "sessions = [10, 11, 12, 13]\n",
    "for session in sessions:\n",
    "    \n",
    "    print(\"Session: \", session)\n",
    "    \n",
    "    # Step 2: Aggregate Party-Level Contributions\n",
    "    party_topic_contributions = {party: np.zeros(lda_model.num_topics) for party in clean_parties}\n",
    "\n",
    "    for party in clean_parties:\n",
    "        party_docs = load(party=party, session=session)  # Load the party-specific document data for the session\n",
    "        for doc in party_docs:\n",
    "            doc_bow = id2word.doc2bow(doc)\n",
    "            doc_topic = lda_model[doc_bow]\n",
    "            for topic_id, weight in doc_topic:\n",
    "                party_topic_contributions[party][topic_id] += weight\n",
    "\n",
    "    # Normalize contributions\n",
    "    for party in clean_parties:\n",
    "        party_topic_contributions[party] /= sum(party_topic_contributions[party])\n",
    "        \n",
    "    # Print top words for each topic\n",
    "    top_words_per_topic = lda_model.print_topics(num_words=5)  # Change the number of words as needed\n",
    "\n",
    "    # Define the relevant topic names\n",
    "    topic_names = {\n",
    "        0: \"Social and Labor\",\n",
    "        1: \"Legal and Judicial\",\n",
    "        2: \"Development and Investment\",\n",
    "        3: \"Healthcare\",\n",
    "        4: \"Education\",\n",
    "        5: \"Economy and European\"\n",
    "    }\n",
    "\n",
    "    # Print top words for each topic with topic names\n",
    "    for topic_id, top_words in top_words_per_topic:\n",
    "        print(f\"{topic_names[topic_id]}: {top_words}\")\n",
    "    \n",
    "\n",
    "    # Step 3: Visualize\n",
    "    party_topic_df = pd.DataFrame.from_dict(party_topic_contributions, orient='index')\n",
    "    party_topic_df.columns = [topic_names[i] for i in range(lda_model.num_topics)]\n",
    "\n",
    "    # Plot a heatmap\n",
    "    mplt.figure(figsize=(10, 6))\n",
    "    mplt.title(f\"Party Topic Contributions - Session {session}\")\n",
    "    sns.heatmap(party_topic_df, cmap=\"YlGnBu\", annot=True, fmt=\".2f\")\n",
    "\n",
    "    # Save the heatmap as an image\n",
    "    image_path = os.path.join(heatmap_dir, f'party_topic_heatmap_session_{session}.png')\n",
    "    mplt.savefig(image_path)\n",
    "\n",
    "    mplt.show()\n",
    "    print()"
   ]
  },
  {
   "cell_type": "code",
   "execution_count": null,
   "id": "60f77a33",
   "metadata": {},
   "outputs": [],
   "source": []
  },
  {
   "cell_type": "code",
   "execution_count": null,
   "id": "d9585614",
   "metadata": {},
   "outputs": [],
   "source": [
    "# Normalize contributions\n",
    "for party in clean_parties:\n",
    "    party_topic_contributions[party] /= party_topic_contributions[party].sum()\n"
   ]
  },
  {
   "cell_type": "code",
   "execution_count": null,
   "id": "8ad542d3",
   "metadata": {},
   "outputs": [],
   "source": []
  },
  {
   "cell_type": "code",
   "execution_count": null,
   "id": "a93f4ee5",
   "metadata": {},
   "outputs": [],
   "source": []
  },
  {
   "cell_type": "code",
   "execution_count": null,
   "id": "d388d57c",
   "metadata": {},
   "outputs": [],
   "source": [
    "# Below, I try to do LDA for all the parties in different legislatures, so I can compare them afterwards."
   ]
  },
  {
   "cell_type": "code",
   "execution_count": null,
   "id": "a2e5b7e4",
   "metadata": {},
   "outputs": [],
   "source": [
    "# Firstly, I see wheter 5, 7 or 8 topics is better than 6."
   ]
  },
  {
   "cell_type": "code",
   "execution_count": 59,
   "id": "e645a72e",
   "metadata": {},
   "outputs": [
    {
     "name": "stdout",
     "output_type": "stream",
     "text": [
      "LDA for  4 topics:\n",
      "[(0,\n",
      "  '0.008*\"milhões\" + 0.007*\"orçamento\" + 0.006*\"euros\" + 0.006*\"empresas\" + '\n",
      "  '0.005*\"investimento\" + 0.005*\"economia\" + 0.005*\"pública\" + 0.004*\"dívida\" '\n",
      "  '+ 0.004*\"ensino\" + 0.004*\"programa\"'),\n",
      " (1,\n",
      "  '0.005*\"política\" + 0.004*\"república\" + 0.004*\"europeia\" + 0.003*\"união\" + '\n",
      "  '0.003*\"maioria\" + 0.003*\"comissão\" + 0.003*\"português\" + 0.003*\"europa\" + '\n",
      "  '0.002*\"social\" + 0.002*\"direitos\"'),\n",
      " (2,\n",
      "  '0.009*\"saúde\" + 0.006*\"nacional\" + 0.004*\"serviço\" + 0.003*\"serviços\" + '\n",
      "  '0.003*\"processo\" + 0.003*\"república\" + 0.003*\"público\" + 0.002*\"acesso\" + '\n",
      "  '0.002*\"proteção\" + 0.002*\"comissão\"'),\n",
      " (3,\n",
      "  '0.011*\"trabalhadores\" + 0.011*\"social\" + 0.010*\"trabalho\" + 0.006*\"pessoas\" '\n",
      "  '+ 0.005*\"segurança\" + 0.005*\"emprego\" + 0.004*\"desemprego\" + '\n",
      "  '0.004*\"nacional\" + 0.004*\"situação\" + 0.003*\"aumento\"')]\n",
      "End\n",
      "\n",
      "\n",
      "LDA for  5 topics:\n",
      "[(0,\n",
      "  '0.006*\"comissão\" + 0.003*\"administração\" + 0.003*\"problema\" + '\n",
      "  '0.003*\"público\" + 0.003*\"processo\" + 0.002*\"sistema\" + 0.002*\"república\" + '\n",
      "  '0.002*\"nacional\" + 0.002*\"sido\" + 0.002*\"reforma\"'),\n",
      " (1,\n",
      "  '0.014*\"saúde\" + 0.008*\"nacional\" + 0.007*\"serviço\" + 0.004*\"serviços\" + '\n",
      "  '0.003*\"profissionais\" + 0.003*\"setor\" + 0.003*\"público\" + 0.003*\"pessoas\" + '\n",
      "  '0.003*\"cuidados\" + 0.003*\"populações\"'),\n",
      " (2,\n",
      "  '0.009*\"milhões\" + 0.008*\"orçamento\" + 0.007*\"investimento\" + 0.007*\"euros\" '\n",
      "  '+ 0.007*\"economia\" + 0.006*\"programa\" + 0.006*\"emprego\" + 0.005*\"social\" + '\n",
      "  '0.005*\"crescimento\" + 0.005*\"política\"'),\n",
      " (3,\n",
      "  '0.009*\"social\" + 0.008*\"trabalhadores\" + 0.006*\"empresas\" + 0.006*\"pessoas\" '\n",
      "  '+ 0.005*\"famílias\" + 0.005*\"aumento\" + 0.005*\"pública\" + 0.005*\"educação\" + '\n",
      "  '0.005*\"pensões\" + 0.004*\"escola\"'),\n",
      " (4,\n",
      "  '0.006*\"república\" + 0.005*\"direitos\" + 0.005*\"trabalho\" + 0.004*\"direito\" + '\n",
      "  '0.004*\"processo\" + 0.004*\"política\" + 0.003*\"europeia\" + '\n",
      "  '0.003*\"trabalhadores\" + 0.003*\"acordo\" + 0.003*\"social\"')]\n"
     ]
    },
    {
     "name": "stderr",
     "output_type": "stream",
     "text": [
      "C:\\Users\\drlag\\AppData\\Roaming\\Python\\Python39\\site-packages\\joblib\\externals\\loky\\process_executor.py:752: UserWarning: A worker stopped while some jobs were given to the executor. This can be caused by a too short worker timeout or by a memory leak.\n",
      "  warnings.warn(\n"
     ]
    },
    {
     "name": "stdout",
     "output_type": "stream",
     "text": [
      "End\n",
      "\n",
      "\n",
      "LDA for  6 topics:\n",
      "[(0,\n",
      "  '0.006*\"nacional\" + 0.005*\"europeia\" + 0.004*\"desenvolvimento\" + '\n",
      "  '0.004*\"setor\" + 0.004*\"união\" + 0.004*\"investimento\" + 0.003*\"programa\" + '\n",
      "  '0.003*\"política\" + 0.003*\"público\" + 0.003*\"políticas\"'),\n",
      " (1,\n",
      "  '0.012*\"saúde\" + 0.010*\"social\" + 0.007*\"orçamento\" + 0.005*\"nacional\" + '\n",
      "  '0.005*\"economia\" + 0.005*\"empresas\" + 0.005*\"aumento\" + 0.005*\"milhões\" + '\n",
      "  '0.005*\"emprego\" + 0.005*\"serviço\"'),\n",
      " (2,\n",
      "  '0.006*\"república\" + 0.005*\"processo\" + 0.005*\"comissão\" + 0.004*\"justiça\" + '\n",
      "  '0.003*\"problema\" + 0.003*\"alteração\" + 0.003*\"segurança\" + 0.003*\"saúde\" + '\n",
      "  '0.003*\"especialidade\" + 0.003*\"direito\"'),\n",
      " (3,\n",
      "  '0.010*\"trabalhadores\" + 0.008*\"trabalho\" + 0.007*\"educação\" + '\n",
      "  '0.006*\"escolas\" + 0.006*\"escola\" + 0.006*\"pública\" + 0.005*\"famílias\" + '\n",
      "  '0.005*\"professores\" + 0.005*\"ensino\" + 0.005*\"milhões\"'),\n",
      " (4,\n",
      "  '0.004*\"orçamento\" + 0.003*\"social\" + 0.003*\"política\" + 0.003*\"pouco\" + '\n",
      "  '0.003*\"vamos\" + 0.003*\"lá\" + 0.003*\"seguinte\" + 0.003*\"comissão\" + '\n",
      "  '0.002*\"trabalho\" + 0.002*\"finanças\"'),\n",
      " (5,\n",
      "  '0.006*\"direitos\" + 0.006*\"política\" + 0.005*\"república\" + '\n",
      "  '0.004*\"democracia\" + 0.004*\"direito\" + 0.004*\"defesa\" + 0.004*\"pessoas\" + '\n",
      "  '0.003*\"vida\" + 0.003*\"forças\" + 0.003*\"português\"')]\n",
      "End\n",
      "\n",
      "\n",
      "LDA for  7 topics:\n",
      "[(0,\n",
      "  '0.014*\"milhões\" + 0.012*\"orçamento\" + 0.011*\"euros\" + 0.007*\"empresas\" + '\n",
      "  '0.007*\"dívida\" + 0.006*\"fiscal\" + 0.006*\"aumento\" + 0.005*\"impostos\" + '\n",
      "  '0.005*\"banco\" + 0.005*\"orçamental\"'),\n",
      " (1,\n",
      "  '0.008*\"república\" + 0.005*\"comissão\" + 0.004*\"política\" + 0.004*\"direito\" + '\n",
      "  '0.003*\"constitucional\" + 0.003*\"processo\" + 0.003*\"português\" + '\n",
      "  '0.003*\"democracia\" + 0.003*\"tribunal\" + 0.003*\"acordo\"'),\n",
      " (2,\n",
      "  '0.023*\"saúde\" + 0.010*\"serviço\" + 0.008*\"nacional\" + 0.007*\"ensino\" + '\n",
      "  '0.007*\"educação\" + 0.006*\"profissionais\" + 0.006*\"escola\" + 0.006*\"escolas\" '\n",
      "  '+ 0.005*\"professores\" + 0.005*\"serviços\"'),\n",
      " (3,\n",
      "  '0.005*\"nacional\" + 0.004*\"europeia\" + 0.004*\"setor\" + 0.004*\"processo\" + '\n",
      "  '0.003*\"público\" + 0.003*\"união\" + 0.003*\"gestão\" + 0.003*\"desenvolvimento\" '\n",
      "  '+ 0.003*\"comissão\" + 0.003*\"proteção\"'),\n",
      " (4,\n",
      "  '0.013*\"social\" + 0.009*\"emprego\" + 0.008*\"economia\" + 0.007*\"desemprego\" + '\n",
      "  '0.006*\"investimento\" + 0.006*\"programa\" + 0.006*\"pessoas\" + '\n",
      "  '0.006*\"crescimento\" + 0.005*\"política\" + 0.005*\"políticas\"'),\n",
      " (5,\n",
      "  '0.006*\"problema\" + 0.005*\"política\" + 0.004*\"problemas\" + 0.003*\"vamos\" + '\n",
      "  '0.003*\"região\" + 0.003*\"lá\" + 0.003*\"nacional\" + 0.003*\"passado\" + '\n",
      "  '0.003*\"maioria\" + 0.002*\"resolver\"'),\n",
      " (6,\n",
      "  '0.019*\"trabalhadores\" + 0.018*\"trabalho\" + 0.010*\"segurança\" + '\n",
      "  '0.009*\"direitos\" + 0.007*\"social\" + 0.005*\"direito\" + 0.004*\"precariedade\" '\n",
      "  '+ 0.004*\"vida\" + 0.004*\"pessoas\" + 0.004*\"condições\"')]\n",
      "End\n",
      "\n",
      "\n",
      "LDA for  8 topics:\n",
      "[(0,\n",
      "  '0.005*\"direitos\" + 0.005*\"segurança\" + 0.005*\"direito\" + 0.004*\"república\" '\n",
      "  '+ 0.004*\"proteção\" + 0.004*\"justiça\" + 0.003*\"pessoas\" + 0.003*\"processo\" + '\n",
      "  '0.003*\"cidadãos\" + 0.003*\"sistema\"'),\n",
      " (1,\n",
      "  '0.017*\"europeia\" + 0.013*\"união\" + 0.009*\"europa\" + 0.009*\"política\" + '\n",
      "  '0.008*\"europeu\" + 0.006*\"países\" + 0.005*\"português\" + 0.004*\"políticas\" + '\n",
      "  '0.004*\"futuro\" + 0.004*\"nacional\"'),\n",
      " (2,\n",
      "  '0.004*\"paulo\" + 0.004*\"anunciar\" + 0.003*\"lá\" + 0.003*\"câmara\" + '\n",
      "  '0.003*\"dias\" + 0.003*\"silva\" + 0.003*\"dr\" + 0.003*\"peço\" + 0.003*\"soares\" + '\n",
      "  '0.003*\"carlos\"'),\n",
      " (3,\n",
      "  '0.006*\"orçamento\" + 0.006*\"comissão\" + 0.005*\"problema\" + 0.005*\"vamos\" + '\n",
      "  '0.005*\"política\" + 0.004*\"maioria\" + 0.003*\"sido\" + 0.003*\"finanças\" + '\n",
      "  '0.003*\"passado\" + 0.003*\"república\"'),\n",
      " (4,\n",
      "  '0.013*\"milhões\" + 0.011*\"euros\" + 0.009*\"empresas\" + 0.006*\"setor\" + '\n",
      "  '0.005*\"investimento\" + 0.005*\"nacional\" + 0.004*\"desenvolvimento\" + '\n",
      "  '0.003*\"agricultura\" + 0.003*\"produção\" + 0.003*\"caixa\"'),\n",
      " (5,\n",
      "  '0.023*\"trabalho\" + 0.017*\"trabalhadores\" + 0.007*\"processo\" + '\n",
      "  '0.007*\"contratos\" + 0.005*\"contratação\" + 0.005*\"república\" + '\n",
      "  '0.005*\"precariedade\" + 0.004*\"contrato\" + 0.004*\"coletiva\" + '\n",
      "  '0.003*\"laboral\"'),\n",
      " (6,\n",
      "  '0.012*\"social\" + 0.006*\"emprego\" + 0.006*\"trabalhadores\" + 0.005*\"aumento\" '\n",
      "  '+ 0.005*\"desemprego\" + 0.005*\"pessoas\" + 0.005*\"famílias\" + '\n",
      "  '0.005*\"economia\" + 0.005*\"trabalho\" + 0.005*\"orçamento\"'),\n",
      " (7,\n",
      "  '0.029*\"saúde\" + 0.014*\"serviço\" + 0.012*\"nacional\" + 0.008*\"serviços\" + '\n",
      "  '0.006*\"cuidados\" + 0.005*\"público\" + 0.005*\"transportes\" + 0.005*\"públicos\" '\n",
      "  '+ 0.004*\"profissionais\" + 0.004*\"sns\"')]\n",
      "End\n",
      "\n",
      "\n"
     ]
    }
   ],
   "source": [
    "# Load the list of words\n",
    "\n",
    "# Load the data\n",
    "data_words = load()\n",
    "\n",
    "\n",
    "for i in range(4, 9):\n",
    "    print(\"LDA for \", i, \"topics:\")\n",
    "    \n",
    "    num_topics = i\n",
    "\n",
    "    id2word, corpus = create_dict(data_words)\n",
    "    lda_model = LDA(id2word, corpus, num_topics)\n",
    "\n",
    "\n",
    "\n",
    "    # Visualize the topics\n",
    "\n",
    "    vis = run_visualizaton(lda_model, corpus, id2word)\n",
    "    save_visualizaton(vis)\n",
    "          \n",
    "          \n",
    "    print(\"End\")\n",
    "    print()\n",
    "    print()\n"
   ]
  },
  {
   "cell_type": "code",
   "execution_count": null,
   "id": "aff99f9f",
   "metadata": {},
   "outputs": [],
   "source": []
  },
  {
   "cell_type": "code",
   "execution_count": null,
   "id": "9a9abffe",
   "metadata": {},
   "outputs": [],
   "source": [
    "# Now, I go through the process of having LDAs for each party-legislature combination."
   ]
  },
  {
   "cell_type": "code",
   "execution_count": null,
   "id": "e4a9d1f0",
   "metadata": {},
   "outputs": [],
   "source": []
  },
  {
   "cell_type": "code",
   "execution_count": null,
   "id": "7672b30f",
   "metadata": {},
   "outputs": [],
   "source": []
  },
  {
   "cell_type": "code",
   "execution_count": null,
   "id": "39507184",
   "metadata": {},
   "outputs": [],
   "source": []
  }
 ],
 "metadata": {
  "kernelspec": {
   "display_name": "Python 3 (ipykernel)",
   "language": "python",
   "name": "python3"
  },
  "language_info": {
   "codemirror_mode": {
    "name": "ipython",
    "version": 3
   },
   "file_extension": ".py",
   "mimetype": "text/x-python",
   "name": "python",
   "nbconvert_exporter": "python",
   "pygments_lexer": "ipython3",
   "version": "3.9.12"
  }
 },
 "nbformat": 4,
 "nbformat_minor": 5
}
