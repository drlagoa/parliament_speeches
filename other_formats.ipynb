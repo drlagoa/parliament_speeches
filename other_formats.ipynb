{
 "cells": [
  {
   "cell_type": "code",
   "execution_count": 1,
   "id": "567415a2",
   "metadata": {},
   "outputs": [],
   "source": [
    "'''\n",
    "This module provides the necessary functions for translating\n",
    "the data from the master json to other formats of data:\n",
    "either json of all interventions by political party, as well\n",
    "as the dictionary for the panda dataframe.\n",
    "'''\n",
    "\n",
    "from collections import defaultdict\n",
    "import os\n",
    "\n",
    "from processing_text import *\n",
    "\n",
    "import json\n",
    "\n",
    "import locale\n",
    "import datetime\n",
    "\n",
    "locale.setlocale(locale.LC_ALL, 'pt_pt.UTF-8')\n",
    "\n",
    "import re"
   ]
  },
  {
   "cell_type": "code",
   "execution_count": 2,
   "id": "e1781ad9",
   "metadata": {},
   "outputs": [
    {
     "name": "stdout",
     "output_type": "stream",
     "text": [
      "D:tese_data\\save\n"
     ]
    }
   ],
   "source": [
    "directory_save = os.path.join('D:', 'tese_data', 'save')\n",
    "print(directory_save)"
   ]
  },
  {
   "cell_type": "code",
   "execution_count": 3,
   "id": "36b4bf33",
   "metadata": {},
   "outputs": [],
   "source": [
    "file_path = os.path.join(directory_save, 'master.json')\n",
    "master = {}\n",
    "\n",
    "with open(file_path, 'r') as infile:\n",
    "    master = json.load(infile)"
   ]
  },
  {
   "cell_type": "code",
   "execution_count": 4,
   "id": "63edb8f0",
   "metadata": {},
   "outputs": [],
   "source": [
    "'''\n",
    "Here, I create a new dictionary in which keys\n",
    "are the political parties, and values are a list\n",
    "of all interventions.\n",
    "'''\n",
    "\n",
    "all_by_party = defaultdict(list)\n",
    "\n",
    "for session, register in master.items():\n",
    "    for party, interventions in register.items():\n",
    "        all_by_party[party] += interventions"
   ]
  },
  {
   "cell_type": "code",
   "execution_count": 5,
   "id": "0d8e6360",
   "metadata": {},
   "outputs": [],
   "source": [
    "'''\n",
    "Code for saving the dictionary (all_by_party) we have created as json.\n",
    "'''\n",
    "\n",
    "file_name = os.path.join(directory_save, 'all_by_party.json')\n",
    "\n",
    "with open(file_name, 'w') as outfile:\n",
    "    json.dump(all_by_party, outfile, sort_keys = True, indent = 4)\n",
    "\n",
    "\n"
   ]
  },
  {
   "cell_type": "code",
   "execution_count": 7,
   "id": "65ce155f",
   "metadata": {},
   "outputs": [
    {
     "data": {
      "text/plain": [
       "'\\nBelow, I create and save the dictionary for\\nthe panda dataframe.\\n'"
      ]
     },
     "execution_count": 7,
     "metadata": {},
     "output_type": "execute_result"
    }
   ],
   "source": [
    "'''\n",
    "Below, I create and save the dictionary for\n",
    "the panda dataframe.\n",
    "'''"
   ]
  },
  {
   "cell_type": "code",
   "execution_count": 8,
   "id": "e3b22b43",
   "metadata": {},
   "outputs": [],
   "source": [
    "# I access the two dictionaries (master and dates) that I need.\n",
    "\n",
    "file_path = os.path.join(directory_save, 'master.json')\n",
    "master = {}\n",
    "\n",
    "with open(file_path, 'r') as infile:\n",
    "    master = json.load(infile)\n",
    "\n",
    "file_path = os.path.join(directory_save, 'dates_dict.json')\n",
    "dates_dict = {}\n",
    "\n",
    "with open(file_path, 'r') as infile:\n",
    "    dates_dict = json.load(infile)"
   ]
  },
  {
   "cell_type": "code",
   "execution_count": 9,
   "id": "431fae01",
   "metadata": {},
   "outputs": [
    {
     "name": "stdout",
     "output_type": "stream",
     "text": [
      "5\n",
      "382899\n"
     ]
    }
   ],
   "source": [
    "'''\n",
    "Here, I create a new dictionary in which keys\n",
    "are the political parties, and values are a list\n",
    "of all interventions.\n",
    "'''\n",
    "\n",
    "panda_dict = defaultdict(list)\n",
    "\n",
    "for file, register in master.items():\n",
    "    for party, interv_list in register.items():\n",
    "        for interventions in interv_list:\n",
    "\n",
    "            panda_dict[\"File\"].append(file)\n",
    "            panda_dict[\"Session\"].append(file[4:6])\n",
    "            panda_dict[\"Party\"].append(party)\n",
    "            panda_dict[\"Intervention\"].append(interventions)\n",
    "\n",
    "            panda_dict[\"Date\"].append(dates_dict[file])\n",
    "\n",
    "\n",
    "print(len(panda_dict))\n",
    "print(len(panda_dict[\"File\"]))"
   ]
  },
  {
   "cell_type": "code",
   "execution_count": 10,
   "id": "ee6ef04f",
   "metadata": {},
   "outputs": [],
   "source": [
    "'''\n",
    "Code for saving the dictionary (panda_dict) we have created as json.\n",
    "'''\n",
    "\n",
    "file_name = os.path.join(directory_save, 'panda_dict.json')\n",
    "\n",
    "with open(file_name, 'w') as outfile:\n",
    "    json.dump(panda_dict, outfile, sort_keys = True, indent = 4)\n",
    "\n",
    "\n",
   ]
  }
 ],
 "metadata": {
  "kernelspec": {
   "display_name": "Python 3 (ipykernel)",
   "language": "python",
   "name": "python3"
  },
  "language_info": {
   "codemirror_mode": {
    "name": "ipython",
    "version": 3
   },
   "file_extension": ".py",
   "mimetype": "text/x-python",
   "name": "python",
   "nbconvert_exporter": "python",
   "pygments_lexer": "ipython3",
   "version": "3.9.12"
  }
 },
 "nbformat": 4,
 "nbformat_minor": 5
}
