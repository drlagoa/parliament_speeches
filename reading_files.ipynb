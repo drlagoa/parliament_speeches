{
 "cells": [
  {
   "cell_type": "code",
   "execution_count": 1,
   "id": "aff5d908",
   "metadata": {},
   "outputs": [
    {
     "data": {
      "text/plain": [
       "'\\nThis notebook contains the code necessary\\nto open all the files in the directory\\ncontaining the transcriptions of Parliamentary\\ndebates. It opens them and saves them in a master\\ndictionary containing all sessions and interventions\\norganized by political party.\\n\\nIt also includes the code to save the interventions\\nin a dictionary that is ready for future conversion\\nto a panda dataframe.\\n'"
      ]
     },
     "execution_count": 1,
     "metadata": {},
     "output_type": "execute_result"
    }
   ],
   "source": [
    "'''\n",
    "This notebook contains the code necessary\n",
    "to open all the files in the directory\n",
    "containing the transcriptions of Parliamentary\n",
    "debates. It opens them and saves them in a master\n",
    "dictionary containing all sessions and interventions\n",
    "organized by political party.\n",
    "\n",
    "It also includes the code to save the interventions\n",
    "in a dictionary that is ready for future conversion\n",
    "to a panda dataframe.\n",
    "'''"
   ]
  },
  {
   "cell_type": "code",
   "execution_count": 2,
   "id": "36b4bf33",
   "metadata": {},
   "outputs": [],
   "source": [
    "from collections import defaultdict\n",
    "import os\n",
    "\n",
    "from processing_text import *\n",
    "\n",
    "import json\n",
    "\n",
    "import locale\n",
    "import datetime\n",
    "\n",
    "locale.setlocale(locale.LC_ALL, 'pt_pt.UTF-8')\n",
    "\n",
    "import re"
   ]
  },
  {
   "cell_type": "code",
   "execution_count": 3,
   "id": "e139bff2",
   "metadata": {},
   "outputs": [
    {
     "name": "stdout",
     "output_type": "stream",
     "text": [
      "D:tese_data\\data\n"
     ]
    }
   ],
   "source": [
    "directory = os.path.join('D:', 'tese_data', 'data')\n",
    "print(directory)"
   ]
  },
  {
   "cell_type": "code",
   "execution_count": 4,
   "id": "9b09099a",
   "metadata": {},
   "outputs": [
    {
     "name": "stdout",
     "output_type": "stream",
     "text": [
      "1874\n"
     ]
    }
   ],
   "source": [
    "# Create master dictionary\n",
    "\n",
    "master_dict = defaultdict()\n",
    "\n",
    "for dirpath, dirnames, filenames in os.walk(os.path.join(directory)):\n",
    "    for filename in filenames:\n",
    "        if filename.endswith('.txt'):\n",
    "            \n",
    "            \n",
    "            session_dict = get_interventions(os.path.join(dirpath, filename))\n",
    "            \n",
    "            session_nr = filename[0:14]\n",
    "            master_dict[session_nr] = session_dict\n",
    "\n",
    "print(len(master_dict))"
   ]
  },
  {
   "cell_type": "code",
   "execution_count": 5,
   "id": "01e5d9b1",
   "metadata": {},
   "outputs": [],
   "source": [
    "'''\n",
    "Code for saving the dictionary (master_dict) we have created as json.\n",
    "'''\n",
    "\n",
    "directory_save = os.path.join('D:', 'tese_data', 'save')\n",
    "file_name = os.path.join(directory_save, 'master.json')\n",
    "\n",
    "with open(file_name, 'w') as outfile:\n",
    "    json.dump(master_dict, outfile, sort_keys = True, indent = 4)\n",
    "\n",
    "\n"
   ]
  },
  {
   "cell_type": "code",
   "execution_count": 7,
   "id": "5639cb13",
   "metadata": {},
   "outputs": [],
   "source": [
    "# Creating the dictionary for the dates."
   ]
  },
  {
   "cell_type": "code",
   "execution_count": 8,
   "id": "cc52ec7b",
   "metadata": {},
   "outputs": [],
   "source": [
    "dates_dict = defaultdict(str)\n",
    "\n",
    "for dirpath, dirnames, filenames in os.walk(os.path.join(directory)):\n",
    "    for filename in filenames:\n",
    "        if filename.endswith('.txt'):\n",
    "\n",
    "            date = get_time(os.path.join(dirpath, filename))\n",
    "            \n",
    "            session_nr = filename[0:14]\n",
    "            \n",
    "            dates_dict[session_nr] = date"
   ]
  },
  {
   "cell_type": "code",
   "execution_count": 9,
   "id": "7ec9319d",
   "metadata": {},
   "outputs": [],
   "source": [
    "'''\n",
    "Code for saving the dictionary (dates_dict) we have created as json.\n",
    "'''\n",
    "\n",
    "directory_save = os.path.join('D:', 'tese_data', 'save')\n",
    "file_name = os.path.join(directory_save, 'dates_dict.json')\n",
    "\n",
    "with open(file_name, 'w') as outfile:\n",
    "    json.dump(dates_dict, outfile, sort_keys = True, indent = 4)"
   ]
  }
 ],
 "metadata": {
  "kernelspec": {
   "display_name": "Python 3 (ipykernel)",
   "language": "python",
   "name": "python3"
  },
  "language_info": {
   "codemirror_mode": {
    "name": "ipython",
    "version": 3
   },
   "file_extension": ".py",
   "mimetype": "text/x-python",
   "name": "python",
   "nbconvert_exporter": "python",
   "pygments_lexer": "ipython3",
   "version": "3.9.12"
  }
 },
 "nbformat": 4,
 "nbformat_minor": 5
}
