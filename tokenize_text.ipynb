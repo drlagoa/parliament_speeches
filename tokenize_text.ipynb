{
 "cells": [
  {
   "cell_type": "code",
   "execution_count": 1,
   "id": "6bb3d3e6",
   "metadata": {},
   "outputs": [
    {
     "data": {
      "text/plain": [
       "'\\nThis module takes the dataset and tokenizes the speech to prepare it for analysis.\\n'"
      ]
     },
     "execution_count": 1,
     "metadata": {},
     "output_type": "execute_result"
    }
   ],
   "source": [
    "'''\n",
    "This module takes the dataset and tokenizes the speech to prepare it for analysis.\n",
    "'''"
   ]
  },
  {
   "cell_type": "code",
   "execution_count": 2,
   "id": "567415a2",
   "metadata": {},
   "outputs": [],
   "source": [
    "from collections import defaultdict\n",
    "import os\n",
    "import pandas as pd\n",
    "\n",
    "import json\n",
    "\n",
    "# Regular Expression library\n",
    "import re\n",
    "\n",
    "from wordcloud import WordCloud\n",
    "\n",
    "import matplotlib.pyplot as mplt"
   ]
  },
  {
   "cell_type": "code",
   "execution_count": 3,
   "id": "60d6a20c",
   "metadata": {},
   "outputs": [],
   "source": [
    "# Importing important packages\n",
    "\n",
    "import gensim\n",
    "from gensim.utils import simple_preprocess\n",
    "import nltk\n",
    "from nltk.corpus import stopwords\n",
    "\n",
    "\n",
    "import gensim.corpora as corpora\n",
    "\n",
    "from pprint import pprint\n",
    "\n",
    "\n",
    "import pickle \n",
    "import pyLDAvis\n",
    "import pyLDAvis.gensim_models\n",
    "from datetime import datetime"
   ]
  },
  {
   "cell_type": "code",
   "execution_count": 4,
   "id": "e1781ad9",
   "metadata": {},
   "outputs": [
    {
     "name": "stdout",
     "output_type": "stream",
     "text": [
      "D:tese_data\\save\n"
     ]
    }
   ],
   "source": [
    "directory_save = os.path.join('D:', 'tese_data', 'save')\n",
    "print(directory_save)"
   ]
  },
  {
   "cell_type": "code",
   "execution_count": 5,
   "id": "36b4bf33",
   "metadata": {},
   "outputs": [],
   "source": [
    "# Open the file\n",
    "\n",
    "file_path = os.path.join(directory_save, 'panda_dict.json')\n",
    "\n",
    "speeches = pd.read_json(file_path)"
   ]
  },
  {
   "cell_type": "code",
   "execution_count": 6,
   "id": "b01ac1df",
   "metadata": {},
   "outputs": [
    {
     "name": "stdout",
     "output_type": "stream",
     "text": [
      "There are 5 columns and 382899 rows.\n"
     ]
    }
   ],
   "source": [
    "# Some information on the dimension of the panda dataframe.\n",
    "\n",
    "speeches.shape\n",
    "print('There are {} columns and {} rows.'.format(speeches.shape[1], speeches.shape[0]))"
   ]
  },
  {
   "cell_type": "code",
   "execution_count": null,
   "id": "0e2dd2e4",
   "metadata": {},
   "outputs": [],
   "source": []
  },

  {
   "cell_type": "code",
   "execution_count": 7,
   "id": "84af7537",
   "metadata": {},
   "outputs": [],
   "source": [
    "def get_clean_parties(dtf, parameter_to_clean = 'Party', cutoff = 150):\n",
    "    ''' Takes dataframe and defines a list with actual parties.\n",
    "    '''\n",
    "    \n",
    "    clean_field = list()\n",
    "    \n",
    "    for field, data in dtf.groupby(parameter_to_clean):\n",
    "        if dtf[dtf[parameter_to_clean] == field].agg(count = ('Intervention', 'count')).iat[0,0] > cutoff:\n",
    "            clean_field.append(field)\n",
    "    \n",
    "        else:\n",
    "            pass\n",
    "\n",
    "    return clean_field\n",
    "    \n",
    "        \n",
    "def get_clean_dataframe(dtf, field_to_cut = 'Intervention', length_cut_off = 40):\n",
    "    ''' Takes raw dataframe and cleans it by dropping\n",
    "    small interventions, keeping only true political parties,\n",
    "    and removing punctuation.\n",
    "    '''\n",
    "    \n",
    "    # Drop small interventions\n",
    "    dataframe = dtf.loc[dtf[field_to_cut].str.len() > length_cut_off]\n",
    "    \n",
    "    # Keep only actual true parties\n",
    "    dataframe = dataframe[dataframe['Party'].isin(clean_parties)]\n",
    "    \n",
    "    # Remove punctuation\n",
    "    dataframe['Intervention_processed'] = dataframe['Intervention'].map(lambda x: re.sub('[,\\\\.!?:]', '', x))\n",
    "\n",
    "    # Convert the titles to lowercase\n",
    "    dataframe['Intervention_processed'] = dataframe['Intervention_processed'].map(lambda x: x.lower())\n",
    "        \n",
    "    return dataframe"
   ]
  },
  {
   "cell_type": "code",
   "execution_count": 8,
   "id": "b97aba4c",
   "metadata": {},
   "outputs": [],
   "source": [
    "# Implementing the functions specified above.\n",
    "\n",
    "clean_parties = get_clean_parties(speeches)\n",
    "\n",
    "clean_dataframe = get_clean_dataframe(speeches)"
   ]
  },
  {
   "cell_type": "code",
   "execution_count": null,
   "id": "bee233ad",
   "metadata": {},
   "outputs": [],
   "source": []
  },
  {
   "cell_type": "code",
   "execution_count": 65,
   "id": "d0bf3898",
   "metadata": {},
   "outputs": [
    {
     "name": "stdout",
     "output_type": "stream",
     "text": [
      "There are 6 columns and 271049 rows.\n"
     ]
    }
   ],
   "source": [
    "clean_dataframe.shape\n",
    "print('There are {} columns and {} rows.'.format(clean_dataframe.shape[1], clean_dataframe.shape[0]))"
   ]
  },
  {
   "cell_type": "code",
   "execution_count": 41,
   "id": "ed18c872",
   "metadata": {},
   "outputs": [
    {
     "name": "stdout",
     "output_type": "stream",
     "text": [
      "Last Session is:  2019-10-25\n",
      "<bound method NDFrame.head of              Date            File  \\\n",
      "0      2005-03-11  darl10sl01n001   \n",
      "1      2005-03-11  darl10sl01n001   \n",
      "2      2005-03-11  darl10sl01n001   \n",
      "3      2005-03-11  darl10sl01n001   \n",
      "4      2005-03-11  darl10sl01n001   \n",
      "...           ...             ...   \n",
      "312665 2019-10-10  darl13sl04n110   \n",
      "312667 2019-10-10  darl13sl04n110   \n",
      "312669 2019-10-10  darl13sl04n110   \n",
      "312670 2019-10-10  darl13sl04n110   \n",
      "312671 2019-10-10  darl13sl04n110   \n",
      "\n",
      "                                             Intervention   Party  Session  \\\n",
      "0       Sr. Presidente, o Bloco de Esquerda far-se-á r...      BE       10   \n",
      "1       Sr. Presidente, Srs. Deputados: Conheço José S...      BE       10   \n",
      "2       Sr. Presidente, Sr.as Deputadas e Srs. Deputad...      BE       10   \n",
      "3       Sr. Presidente, é para indicar que integrará e...  CDS-PP       10   \n",
      "4       Sr. Presidente, Sr.as e Srs. Deputados: No pas...  CDS-PP       10   \n",
      "...                                                   ...     ...      ...   \n",
      "312665  De nada serve convocar para este debate o papã...     PSD       13   \n",
      "312667  O Governo tem um Primeiro-Ministro a quem os s...     PSD       13   \n",
      "312669  Sr. Presidente, Sr.as e Srs. Deputados: No dis...     PSD       13   \n",
      "312670  Estão apresentados! Protestos dos Deputados do...     PSD       13   \n",
      "312671  Depois veio a Comissão de Inquérito ao roubo d...     PSD       13   \n",
      "\n",
      "                                   Intervention_processed  \n",
      "0       sr presidente o bloco de esquerda far-se-á rep...  \n",
      "1       sr presidente srs deputados conheço josé sarai...  \n",
      "2       sr presidente sras deputadas e srs deputados c...  \n",
      "3       sr presidente é para indicar que integrará ess...  \n",
      "4       sr presidente sras e srs deputados no passado ...  \n",
      "...                                                   ...  \n",
      "312665  de nada serve convocar para este debate o papã...  \n",
      "312667  o governo tem um primeiro-ministro a quem os s...  \n",
      "312669  sr presidente sras e srs deputados no discurso...  \n",
      "312670  estão apresentados protestos dos deputados do ...  \n",
      "312671  depois veio a comissão de inquérito ao roubo d...  \n",
      "\n",
      "[221784 rows x 6 columns]>\n"
     ]
    }
   ],
   "source": [
    "# Here, I change the dataset to only include data until the end of our period of interest.\n",
    "\n",
    "last_session = \"2019-10-25\"\n",
    "\n",
    "clean_dataframe[\"Date\"] = pd.to_datetime(clean_dataframe[\"Date\"])\n",
    "clean2 = clean_dataframe[clean_dataframe[\"Date\"] <= pd.to_datetime(last_session)]\n",
    "\n",
    "print(\"Last Session is: \", last_session)\n",
    "\n",
    "print(clean2.head)"
   ]
  },
  {
   "cell_type": "code",
   "execution_count": 66,
   "id": "9b719900",
   "metadata": {},
   "outputs": [
    {
     "name": "stdout",
     "output_type": "stream",
     "text": [
      "There are 6 columns and 221784 rows.\n"
     ]
    }
   ],
   "source": [
    "clean2.shape\n",
    "print('There are {} columns and {} rows.'.format(clean2.shape[1], clean2.shape[0]))"
   ]
  },
  {
   "cell_type": "code",
   "execution_count": 43,
   "id": "a609cae8",
   "metadata": {},
   "outputs": [],
   "source": [
    "clean_data_frame = clean2"
   ]
  },
  {
   "cell_type": "code",
   "execution_count": 103,
   "id": "9c1b75cd",
   "metadata": {},
   "outputs": [],
   "source": [
    "# Here, I change the parties of Government to PS or PSD/CDS-PP respectively, and join PSD/CDS-PP.\n",
    "\n",
    "clean3 = clean2\n",
    "\n",
    "\n",
    "clean3.loc[\n",
    "    (clean3[\"Date\"] >= pd.to_datetime(\"2011-06-20\")) &\n",
    "    (clean3[\"Date\"] <= pd.to_datetime(\"2015-11-26\")) &\n",
    "    (clean3[\"Party\"] == \"Government\"),\n",
    "    \"Party\"\n",
    "] = \"PSD/CDS-PP\"\n",
    "\n",
    "\n",
    "clean3.loc[\n",
    "    (clean3[\"Date\"] < pd.to_datetime(\"2011-06-20\")) &\n",
    "    (clean3[\"Party\"] == \"Government\"),\n",
    "    \"Party\"\n",
    "] = \"PS\"\n",
    "\n",
    "clean3.loc[\n",
    "    (clean3[\"Date\"] > pd.to_datetime(\"2015-11-26\")) &\n",
    "    (clean3[\"Party\"] == \"Government\"),\n",
    "    \"Party\"\n",
    "] = \"PS\"\n",
    "\n",
    "\n",
    "clean3.loc[\n",
    "    (clean3[\"Date\"] > pd.to_datetime(\"2015-11-26\")) &\n",
    "    (clean3[\"Party\"] == \"Government\"),\n",
    "    \"Party\"\n",
    "] = \"PS\"\n",
    "\n",
    "clean3.loc[\n",
    "    (clean3[\"Party\"] == \"PSD\") |\n",
    "    (clean3[\"Party\"] == \"PSD/CDS-PP\") |\n",
    "    (clean3[\"Party\"] == \"CDS-PP\"),\n",
    "    \"Party\"\n",
    "] = \"PSD+CDS-PP\"\n",
    "\n"
   ]
  },
  {
   "cell_type": "code",
   "execution_count": 105,
   "id": "8557239f",
   "metadata": {},
   "outputs": [
    {
     "name": "stdout",
     "output_type": "stream",
     "text": [
      "There are 6 columns and 221784 rows.\n"
     ]
    }
   ],
   "source": [
    "clean_data_frame = clean3\n",
    "\n",
    "clean_data_frame.shape\n",
    "print('There are {} columns and {} rows.'.format(clean_data_frame.shape[1], clean_data_frame.shape[0]))"
   ]
  },
  {
   "cell_type": "code",
   "execution_count": 106,
   "id": "5feebe8a",
   "metadata": {},
   "outputs": [
    {
     "name": "stdout",
     "output_type": "stream",
     "text": [
      "DataFrame saved as clean_dataframe.json\n"
     ]
    }
   ],
   "source": [
    "\n",
    "# Save the DataFrame as a JSON file\n",
    "directory_save = os.path.join('D:', 'tese_data', 'save')\n",
    "json_filename = \"clean_dataframe.json\"\n",
    "file_path = os.path.join(directory_save, json_filename)\n",
    "\n",
    "\n",
    "clean_data_frame.to_json(file_path, orient=\"records\", lines=True)\n",
    "\n",
    "print(f\"DataFrame saved as {json_filename}\")"
   ]
  },
  {
   "cell_type": "code",
   "execution_count": 7,
   "id": "aea54571",
   "metadata": {},
   "outputs": [
    {
     "name": "stdout",
     "output_type": "stream",
     "text": [
      "There are 6 columns and 221784 rows.\n",
      "There are 6 columns and 221036 rows.\n"
     ]
    }
   ],
   "source": [
    "# Finally, I take a provisional clean dataframe and remove interventions from PAN and \"nao inscritos\"\n",
    "\n",
    "\n",
    "file_path = os.path.join(directory_save, 'clean_dataframe.json')\n",
    "\n",
    "speeches = pd.read_json(file_path, orient=\"records\", lines=True)\n",
    "\n",
    "speeches.shape\n",
    "print('There are {} columns and {} rows.'.format(speeches.shape[1], speeches.shape[0]))\n",
    "\n",
    "speeches = speeches[~speeches['Party'].isin(['PAN', 'N insc.'])]\n",
    "\n",
    "speeches.shape\n",
    "print('There are {} columns and {} rows.'.format(speeches.shape[1], speeches.shape[0]))\n"
   ]
  },
  {
   "cell_type": "code",
   "execution_count": 8,
   "id": "31ac16b6",
   "metadata": {},
   "outputs": [
    {
     "name": "stdout",
     "output_type": "stream",
     "text": [
      "DataFrame saved as clean_dataframe.json\n"
     ]
    }
   ],
   "source": [
    "clean_data_frame = speeches\n",
    "\n",
    "\n",
    "# Save the DataFrame as a JSON file\n",
    "directory_save = os.path.join('D:', 'tese_data', 'save')\n",
    "json_filename = \"clean_dataframe.json\"\n",
    "file_path = os.path.join(directory_save, json_filename)\n",
    "\n",
    "\n",
    "clean_data_frame.to_json(file_path, orient=\"records\", lines=True)\n",
    "\n",
    "print(f\"DataFrame saved as {json_filename}\")"
   ]
  },
  {
   "cell_type": "code",
   "execution_count": null,
   "id": "13f369f1",
   "metadata": {},
   "outputs": [],
   "source": []
  },
  {
   "cell_type": "code",
   "execution_count": null,
   "id": "9d3d8860",
   "metadata": {},
   "outputs": [],
   "source": []
  },
  {
   "cell_type": "code",
   "execution_count": 101,
   "id": "98eae0b2",
   "metadata": {},
   "outputs": [
    {
     "name": "stdout",
     "output_type": "stream",
     "text": [
      "12410951\n"
     ]
    },
  {
     "name": "stderr",
     "output_type": "stream",
     "text": []
    }
   ],
   "source": [
    "compiled = []\n",
    "\n",
    "for lst in data_words:\n",
    "    for i in lst:\n",
    "        compiled.append(i)\n",
    "\n",
    "print(len(compiled))\n",
    "\n"
   ]
  },
  {
   "cell_type": "code",
   "execution_count": null,
   "id": "0a28ff4f",
   "metadata": {},
   "outputs": [],
   "source": []
  },
  {
   "cell_type": "code",
   "execution_count": null,
   "id": "1145d915",
   "metadata": {},
   "outputs": [],
   "source": []
  },
  {
   "cell_type": "code",
   "execution_count": 109,
   "id": "0e254cdc",
   "metadata": {},
   "outputs": [],
   "source": [
    "for party in clean_parties:\n",
    "    \n",
    "    data_words = tokenize(clean_data_frame, party)\n",
    "    save_list(data_words, party)"
   ]
  }
 ],
 "metadata": {
  "kernelspec": {
   "display_name": "Python 3 (ipykernel)",
   "language": "python",
   "name": "python3"
  },
  "language_info": {
   "codemirror_mode": {
    "name": "ipython",
    "version": 3
   },
   "file_extension": ".py",
   "mimetype": "text/x-python",
   "name": "python",
   "nbconvert_exporter": "python",
   "pygments_lexer": "ipython3",
   "version": "3.9.12"
  }
 },
 "nbformat": 4,
 "nbformat_minor": 5
}
